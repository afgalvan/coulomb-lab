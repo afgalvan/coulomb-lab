{
 "cells": [
  {
   "cell_type": "markdown",
   "source": [
    "<h1 align=\"center\">\r\n",
    "    PRACTICA EXPERIMENTAL #1\r\n",
    "    </br>\r\n",
    "    LEY DE COULOMB\r\n",
    "</h1>"
   ],
   "metadata": {}
  },
  {
   "cell_type": "markdown",
   "source": [
    "| IDENTIFICACIÓN | |\r\n",
    "| :- | :- |\r\n",
    "| Nombre de la asignatura | Electromagnetismo |\r\n",
    "| Programa Académico | Ingeniería de ambiental y sanitaria, agroindustrial |\r\n",
    "| Docente | Dra. Yoleivys Delgado Beleño |\r\n",
    "| Nombre del Estudiante | Andrés Felipe Galván |\r\n",
    "\r\n",
    "---\r\n",
    "\r\n",
    "## OBJETIVO GENERAL\r\n",
    "\r\n",
    "Estudiar la dependencia de la fuerza eléctrica respecto a la distancia de separación \r\n",
    "entre las cargas, así como determinar el valor de la constante de Coulomb. \r\n",
    "\r\n",
    "---\r\n",
    "\r\n",
    "## OBJETIVOS ESPECÍFICOS\r\n",
    "\r\n",
    "- Calcular  la  dependencia  de  la  fuerza  eléctrica  respecto  a  la  distancia  de \r\n",
    "separación entre las cargas.\r\n",
    "- Calcular el valor de la constante de Coulomb.\r\n",
    "- Determinar los errores de las mediciones."
   ],
   "metadata": {}
  },
  {
   "cell_type": "markdown",
   "source": [
    "## Formulas\r\n",
    "\r\n",
    "### 1. Ley de Coulomb\r\n",
    "\r\n",
    "> <img src=\"https://latex.codecogs.com/svg.latex?\\large&space;F_{e}&space;=&space;k_{e{\\color{Golden}&space;}}\\frac{|q_{1}||q_{2}|}{r^{2}}\" title=\"\\large F_{e} = k_{e}\\frac{|q_{1}||q_{2}|}{r^{2}}\" />\r\n",
    "\r\n",
    "Donde <img src=\"https://latex.codecogs.com/svg.latex?\\large&space;k_{e}\" title=\"\\large k_{e}\" />, es conocida como la **constante de Coulomb** y se expresa como:\r\n",
    "\r\n",
    "> <img src=\"https://latex.codecogs.com/svg.latex?\\large&space;k_{e}&space;=&space;8.9876&space;\\times&space;10^{9}N&space;\\cdot&space;m^{2}/C^{2}\" title=\"\\large k_{e} = 8.9876 \\times 10^{9}N \\cdot m^{2}/C^{2}\" />\r\n",
    "\r\n",
    "> <img src=\"https://latex.codecogs.com/svg.latex?\\large&space;k_{e}&space;=&space;\\frac{1}{4\\pi&space;\\varepsilon_{0}&space;}\" title=\"\\large k_{e} = \\frac{1}{4\\pi \\varepsilon_{0} }\" />\r\n",
    "\r\n",
    "Donde <img src=\"https://latex.codecogs.com/svg.latex?\\large&space;\\varepsilon_{0}\" title=\"\\large \\varepsilon_{0}\" /> se conoce como la permitividad del vacío y su valor en el **SI** es:\r\n",
    "\r\n",
    "> <img src=\"https://latex.codecogs.com/svg.latex?\\large&space;\\varepsilon_{0}&space;=&space;8.8542&space;\\times&space;10^{-12}C^2/N\\cdot&space;m^2\" title=\"\\large \\varepsilon_{0} = 8.8542 \\times 10^{-12}C^2/N\\cdot m^2\" />\r\n",
    "\r\n",
    "---\r\n",
    "\r\n",
    "### 2. Relación entre *F* y *r*\r\n",
    "\r\n",
    "A partir de la ecuación de la ley de Coulomb se puede estudiar la relación entre ***F*** \r\n",
    "y ***r***. Considere la ecuación dada por:\r\n",
    "\r\n",
    "> <img src=\"https://latex.codecogs.com/svg.latex?\\large&space;F_{e}&space;=&space;k_{e{\\color{Golden}&space;}}\\frac{|q_{1}||q_{2}|}{r^{2}}\" title=\"\\large F_{e} = k_{e}\\frac{|q_{1}||q_{2}|}{r^{2}}\" />\r\n",
    "\r\n",
    "Esta ecuación se puede reescribir como:\r\n",
    "\r\n",
    "> <img src=\"https://latex.codecogs.com/svg.latex?\\large&space;F_{e}&space;=&space;m\\frac{1}{r^{2}}\" title=\"\\large F_{e} = m\\frac{1}{r^{2}}\" />\r\n",
    "\r\n",
    "Donde: <img src=\"https://latex.codecogs.com/svg.latex?\\large&space;m&space;=&space;k_{e}|q_{1}||q_{2}|\" title=\"\\large m = k_{e}|q_{1}||q_{2}|\" />\r\n",
    "\r\n",
    "De la expresión anterior se llega a extraer la relación de <img src=\"https://latex.codecogs.com/svg.latex?\\large&space;F_{e}\" title=\"\\large F_{e}\" /> respecto a <img src=\"https://latex.codecogs.com/svg.latex?\\large&space;r\" title=\"\\large r\" /> como:\r\n",
    "\r\n",
    "> <img src=\"https://latex.codecogs.com/svg.latex?\\large&space;F_{e}&space;=&space;\\propto&space;\\frac{1}{r^{2}}\" title=\"\\large F_{e} = \\propto \\frac{1}{r^{2}}\" />\r\n",
    "\r\n",
    "---\r\n",
    "\r\n",
    "### 3. Porcentaje de error\r\n",
    "\r\n",
    "> <img src=\"https://latex.codecogs.com/svg.latex?\\large&space;\\%&space;error&space;=&space;\\frac{Valor\\&space;aceptado&space;-&space;Valor\\&space;experimental}{Valor\\&space;aceptado}&space;\\times&space;100\\%\" title=\"\\large \\% error = \\frac{Valor\\ aceptado - Valor\\ experimental}{Valor\\ aceptado} \\times 100\\%\" />"
   ],
   "metadata": {}
  },
  {
   "cell_type": "markdown",
   "source": [
    "## Relación directamente proporcional\r\n",
    "TODO"
   ],
   "metadata": {}
  },
  {
   "cell_type": "markdown",
   "source": [
    "## Relación inversamente proporcional\r\n",
    "TODO"
   ],
   "metadata": {}
  },
  {
   "cell_type": "markdown",
   "source": [
    "# Procedimiento"
   ],
   "metadata": {}
  },
  {
   "cell_type": "markdown",
   "source": [
    "## Instalación de dependencias"
   ],
   "metadata": {}
  },
  {
   "cell_type": "code",
   "execution_count": null,
   "source": [
    "from sys import executable\r\n",
    "!{executable} -m pip install pandas"
   ],
   "outputs": [],
   "metadata": {}
  },
  {
   "cell_type": "markdown",
   "source": [
    "## Registro de datos\r\n",
    "\r\n",
    "Con cargas tales que *q1 = -4e* y *q2 = 3e*"
   ],
   "metadata": {}
  },
  {
   "cell_type": "code",
   "execution_count": 11,
   "source": [
    "from pandas import DataFrame\r\n",
    "from utils import crear_dataframe\r\n",
    "\r\n",
    "fuerza_distancia1: DataFrame = crear_dataframe()\r\n",
    "fuerza_distancia1.dropna()"
   ],
   "outputs": [
    {
     "output_type": "execute_result",
     "data": {
      "text/plain": [
       "Empty DataFrame\n",
       "Columns: [F (N), r (pm), 1/r²]\n",
       "Index: []"
      ],
      "text/html": [
       "<div>\n",
       "<style scoped>\n",
       "    .dataframe tbody tr th:only-of-type {\n",
       "        vertical-align: middle;\n",
       "    }\n",
       "\n",
       "    .dataframe tbody tr th {\n",
       "        vertical-align: top;\n",
       "    }\n",
       "\n",
       "    .dataframe thead th {\n",
       "        text-align: right;\n",
       "    }\n",
       "</style>\n",
       "<table border=\"1\" class=\"dataframe\">\n",
       "  <thead>\n",
       "    <tr style=\"text-align: right;\">\n",
       "      <th>N°</th>\n",
       "      <th>F (N)</th>\n",
       "      <th>r (pm)</th>\n",
       "      <th>1/r²</th>\n",
       "    </tr>\n",
       "  </thead>\n",
       "  <tbody>\n",
       "  </tbody>\n",
       "</table>\n",
       "</div>"
      ]
     },
     "metadata": {},
     "execution_count": 11
    }
   ],
   "metadata": {}
  }
 ],
 "metadata": {
  "orig_nbformat": 4,
  "language_info": {
   "name": "python",
   "version": "3.9.6",
   "mimetype": "text/x-python",
   "codemirror_mode": {
    "name": "ipython",
    "version": 3
   },
   "pygments_lexer": "ipython3",
   "nbconvert_exporter": "python",
   "file_extension": ".py"
  },
  "kernelspec": {
   "name": "python3",
   "display_name": "Python 3.9.6 64-bit"
  },
  "interpreter": {
   "hash": "54f473eb0257c08decd1f78f9882b56b9a20e6410c7d8533ca2fd9ce09773f65"
  }
 },
 "nbformat": 4,
 "nbformat_minor": 2
}