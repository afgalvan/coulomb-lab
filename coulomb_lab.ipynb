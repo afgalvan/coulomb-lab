{
 "cells": [
  {
   "cell_type": "markdown",
   "source": [
    "<h1 align=\"center\">\r\n",
    "    PRACTICA EXPERIMENTAL #1\r\n",
    "    </br>\r\n",
    "    LEY DE COULOMB\r\n",
    "</h1>"
   ],
   "metadata": {}
  },
  {
   "cell_type": "markdown",
   "source": [
    "| IDENTIFICACIÓN | |\r\n",
    "| :- | :- |\r\n",
    "| Nombre de la asignatura | Electromagnetismo |\r\n",
    "| Programa Académico | Ingeniería de ambiental y sanitaria, agroindustrial |\r\n",
    "| Docente | Dra. Yoleivys Delgado Beleño |\r\n",
    "| Nombre del Estudiante | Andrés Felipe Galván |\r\n",
    "\r\n",
    "---\r\n",
    "\r\n",
    "## OBJETIVO GENERAL\r\n",
    "\r\n",
    "Estudiar la dependencia de la fuerza eléctrica respecto a la distancia de separación \r\n",
    "entre las cargas, así como determinar el valor de la constante de Coulomb. \r\n",
    "\r\n",
    "---\r\n",
    "\r\n",
    "## OBJETIVOS ESPECÍFICOS\r\n",
    "\r\n",
    "- Calcular  la  dependencia  de  la  fuerza  eléctrica  respecto  a  la  distancia  de \r\n",
    "separación entre las cargas.\r\n",
    "- Calcular el valor de la constante de Coulomb.\r\n",
    "- Determinar los errores de las mediciones."
   ],
   "metadata": {}
  },
  {
   "cell_type": "markdown",
   "source": [
    "## Formulas\r\n",
    "\r\n",
    "### 1. Ley de Coulomb\r\n",
    "\r\n",
    "> <img src=\"https://latex.codecogs.com/svg.latex?\\large&space;F_{e}&space;=&space;k_{e{\\color{Golden}&space;}}\\frac{|q_{1}||q_{2}|}{r^{2}}\" title=\"\\large F_{e} = k_{e}\\frac{|q_{1}||q_{2}|}{r^{2}}\" />\r\n",
    "\r\n",
    "Donde <img src=\"https://latex.codecogs.com/svg.latex?\\large&space;k_{e}\" title=\"\\large k_{e}\" />, es conocida como la **constante de Coulomb** y se expresa como:\r\n",
    "\r\n",
    "> <img src=\"https://latex.codecogs.com/svg.latex?\\large&space;k_{e}&space;=&space;8.9876&space;\\times&space;10^{9}N&space;\\cdot&space;m^{2}/C^{2}\" title=\"\\large k_{e} = 8.9876 \\times 10^{9}N \\cdot m^{2}/C^{2}\" />\r\n",
    "\r\n",
    "> <img src=\"https://latex.codecogs.com/svg.latex?\\large&space;k_{e}&space;=&space;\\frac{1}{4\\pi&space;\\varepsilon_{0}&space;}\" title=\"\\large k_{e} = \\frac{1}{4\\pi \\varepsilon_{0} }\" />\r\n",
    "\r\n",
    "Donde <img src=\"https://latex.codecogs.com/svg.latex?\\large&space;\\varepsilon_{0}\" title=\"\\large \\varepsilon_{0}\" /> se conoce como la permitividad del vacío y su valor en el **SI** es:\r\n",
    "\r\n",
    "> <img src=\"https://latex.codecogs.com/svg.latex?\\large&space;\\varepsilon_{0}&space;=&space;8.8542&space;\\times&space;10^{-12}C^2/N\\cdot&space;m^2\" title=\"\\large \\varepsilon_{0} = 8.8542 \\times 10^{-12}C^2/N\\cdot m^2\" />\r\n",
    "\r\n",
    "---\r\n",
    "\r\n",
    "### 2. Relación entre *F* y *r*\r\n",
    "\r\n",
    "A partir de la ecuación de la ley de Coulomb se puede estudiar la relación entre ***F*** \r\n",
    "y ***r***. Considere la ecuación dada por:\r\n",
    "\r\n",
    "> <img src=\"https://latex.codecogs.com/svg.latex?\\large&space;F_{e}&space;=&space;k_{e{\\color{Golden}&space;}}\\frac{|q_{1}||q_{2}|}{r^{2}}\" title=\"\\large F_{e} = k_{e}\\frac{|q_{1}||q_{2}|}{r^{2}}\" />\r\n",
    "\r\n",
    "Esta ecuación se puede reescribir como:\r\n",
    "\r\n",
    "> <img src=\"https://latex.codecogs.com/svg.latex?\\large&space;F_{e}&space;=&space;m\\frac{1}{r^{2}}\" title=\"\\large F_{e} = m\\frac{1}{r^{2}}\" />\r\n",
    "\r\n",
    "Donde: <img src=\"https://latex.codecogs.com/svg.latex?\\large&space;m&space;=&space;k_{e}|q_{1}||q_{2}|\" title=\"\\large m = k_{e}|q_{1}||q_{2}|\" />\r\n",
    "\r\n",
    "De la expresión anterior se llega a extraer la relación de <img src=\"https://latex.codecogs.com/svg.latex?\\large&space;F_{e}\" title=\"\\large F_{e}\" /> respecto a <img src=\"https://latex.codecogs.com/svg.latex?\\large&space;r\" title=\"\\large r\" /> como:\r\n",
    "\r\n",
    "> <img src=\"https://latex.codecogs.com/svg.latex?\\large&space;F_{e}&space;=&space;\\propto&space;\\frac{1}{r^{2}}\" title=\"\\large F_{e} = \\propto \\frac{1}{r^{2}}\" />\r\n",
    "\r\n",
    "---\r\n",
    "\r\n",
    "### 3. Porcentaje de error\r\n",
    "\r\n",
    "> <img src=\"https://latex.codecogs.com/svg.latex?\\large&space;\\%&space;error&space;=&space;\\frac{Valor\\&space;aceptado&space;-&space;Valor\\&space;experimental}{Valor\\&space;aceptado}&space;\\times&space;100\\%\" title=\"\\large \\% error = \\frac{Valor\\ aceptado - Valor\\ experimental}{Valor\\ aceptado} \\times 100\\%\" />"
   ],
   "metadata": {}
  },
  {
   "cell_type": "markdown",
   "source": [
    "## Relación directamente proporcional\r\n",
    "TODO"
   ],
   "metadata": {}
  },
  {
   "cell_type": "markdown",
   "source": [
    "## Relación inversamente proporcional\r\n",
    "TODO"
   ],
   "metadata": {}
  },
  {
   "cell_type": "markdown",
   "source": [
    "# Procedimiento"
   ],
   "metadata": {}
  },
  {
   "cell_type": "markdown",
   "source": [
    "## Instalación de dependencias"
   ],
   "metadata": {}
  },
  {
   "cell_type": "code",
   "execution_count": null,
   "source": [
    "from sys import executable\r\n",
    "!{executable} -m pip install pandas"
   ],
   "outputs": [],
   "metadata": {}
  },
  {
   "cell_type": "markdown",
   "source": [
    "## Configuración"
   ],
   "metadata": {}
  },
  {
   "cell_type": "code",
   "execution_count": 1,
   "source": [
    "import pandas as pd\r\n",
    "pd.set_option('display.float_format', '{:.2E}'.format)"
   ],
   "outputs": [],
   "metadata": {}
  },
  {
   "cell_type": "markdown",
   "source": [
    "## Registro de datos\r\n",
    "\r\n",
    "Con cargas tales que *q1 = -4e* y *q2 = 3e*"
   ],
   "metadata": {}
  },
  {
   "cell_type": "code",
   "execution_count": 4,
   "source": [
    "from pandas import DataFrame\r\n",
    "from utils import crear_dataframe, registrar\r\n",
    "\r\n",
    "fuerza_distancia1: DataFrame = crear_dataframe()\r\n",
    "registrar(fuerza_distancia1,\r\n",
    "    (1.11, -4),\r\n",
    "    (2.77, -5),\r\n",
    "    (1.23, -5),\r\n",
    "    (6.92, -6),\r\n",
    "    (4.43, -6),\r\n",
    "    (3.08, -6),\r\n",
    "    (2.26, -6),\r\n",
    "    (1.73, -6),\r\n",
    "    (1.37, -6),\r\n",
    "    (1.11, -6),\r\n",
    "    (9.15, -7),\r\n",
    "    (7.69, -7),\r\n",
    "    (6.55, -7),\r\n",
    "    (5.65, -7), #\r\n",
    "    (4.92, -7),\r\n",
    "    (4.33, -7),\r\n",
    "    (3.83, -7),\r\n",
    "    (3.42, -7),\r\n",
    "    (3.07, -7),\r\n",
    "    (2.77, -7),\r\n",
    "    inicio=5, paso=5\r\n",
    ")\r\n",
    "fuerza_distancia1.dropna()"
   ],
   "outputs": [
    {
     "output_type": "error",
     "ename": "TypeError",
     "evalue": "'function' object is not iterable",
     "traceback": [
      "\u001b[1;31m---------------------------------------------------------------------------\u001b[0m",
      "\u001b[1;31mTypeError\u001b[0m                                 Traceback (most recent call last)",
      "\u001b[1;32m~\\AppData\\Local\\Temp/ipykernel_8096/4233633118.py\u001b[0m in \u001b[0;36m<module>\u001b[1;34m\u001b[0m\n\u001b[0;32m      1\u001b[0m \u001b[1;32mfrom\u001b[0m \u001b[0mpandas\u001b[0m \u001b[1;32mimport\u001b[0m \u001b[0mDataFrame\u001b[0m\u001b[1;33m\u001b[0m\u001b[1;33m\u001b[0m\u001b[0m\n\u001b[1;32m----> 2\u001b[1;33m \u001b[1;32mfrom\u001b[0m \u001b[0mutils\u001b[0m \u001b[1;32mimport\u001b[0m \u001b[0mcrear_dataframe\u001b[0m\u001b[1;33m,\u001b[0m \u001b[0mregistrar\u001b[0m\u001b[1;33m\u001b[0m\u001b[1;33m\u001b[0m\u001b[0m\n\u001b[0m\u001b[0;32m      3\u001b[0m \u001b[1;33m\u001b[0m\u001b[0m\n\u001b[0;32m      4\u001b[0m \u001b[0mfuerza_distancia1\u001b[0m\u001b[1;33m:\u001b[0m \u001b[0mDataFrame\u001b[0m \u001b[1;33m=\u001b[0m \u001b[0mcrear_dataframe\u001b[0m\u001b[1;33m(\u001b[0m\u001b[1;33m)\u001b[0m\u001b[1;33m\u001b[0m\u001b[1;33m\u001b[0m\u001b[0m\n\u001b[0;32m      5\u001b[0m registrar(fuerza_distancia1,\n",
      "\u001b[1;32mg:\\Documents\\College\\subjects\\electromagnetism\\1st_cut\\labs\\coulomb-lab\\utils.py\u001b[0m in \u001b[0;36m<module>\u001b[1;34m\u001b[0m\n\u001b[0;32m     38\u001b[0m \u001b[1;33m\u001b[0m\u001b[0m\n\u001b[0;32m     39\u001b[0m \u001b[1;33m@\u001b[0m\u001b[0mregistrar\u001b[0m\u001b[1;33m.\u001b[0m\u001b[0mregister\u001b[0m\u001b[1;33m(\u001b[0m\u001b[0mDataFrame\u001b[0m\u001b[1;33m,\u001b[0m \u001b[0mRegistroFuerza\u001b[0m\u001b[1;33m)\u001b[0m\u001b[1;33m\u001b[0m\u001b[1;33m\u001b[0m\u001b[0m\n\u001b[1;32m---> 40\u001b[1;33m \u001b[1;32mdef\u001b[0m \u001b[0m_\u001b[0m\u001b[1;33m(\u001b[0m\u001b[0mdataframe\u001b[0m\u001b[1;33m:\u001b[0m \u001b[0mDataFrame\u001b[0m\u001b[1;33m,\u001b[0m \u001b[1;33m*\u001b[0m\u001b[0mregistros\u001b[0m\u001b[1;33m:\u001b[0m \u001b[0mRegistroFuerza\u001b[0m\u001b[1;33m,\u001b[0m \u001b[0minicio\u001b[0m\u001b[1;33m=\u001b[0m\u001b[1;36m0\u001b[0m\u001b[1;33m,\u001b[0m \u001b[0mpaso\u001b[0m\u001b[1;33m=\u001b[0m\u001b[1;36m0\u001b[0m\u001b[1;33m)\u001b[0m \u001b[1;33m->\u001b[0m \u001b[1;32mNone\u001b[0m\u001b[1;33m:\u001b[0m\u001b[1;33m\u001b[0m\u001b[1;33m\u001b[0m\u001b[0m\n\u001b[0m\u001b[0;32m     41\u001b[0m     \"\"\"\n\u001b[0;32m     42\u001b[0m     \u001b[0mRegistrar\u001b[0m \u001b[0men\u001b[0m \u001b[0mel\u001b[0m \u001b[0mdataframe\u001b[0m \u001b[0mrecibido\u001b[0m \u001b[0mn\u001b[0m \u001b[0mcantidad\u001b[0m \u001b[0mde\u001b[0m \u001b[0mregistros\u001b[0m \u001b[0mde\u001b[0m \u001b[0mfuerza\u001b[0m\u001b[1;33m\u001b[0m\u001b[1;33m\u001b[0m\u001b[0m\n",
      "\u001b[1;31mTypeError\u001b[0m: 'function' object is not iterable"
     ]
    }
   ],
   "metadata": {}
  }
 ],
 "metadata": {
  "orig_nbformat": 4,
  "language_info": {
   "name": "python",
   "version": "3.9.6",
   "mimetype": "text/x-python",
   "codemirror_mode": {
    "name": "ipython",
    "version": 3
   },
   "pygments_lexer": "ipython3",
   "nbconvert_exporter": "python",
   "file_extension": ".py"
  },
  "kernelspec": {
   "name": "python3",
   "display_name": "Python 3.9.6 64-bit"
  },
  "interpreter": {
   "hash": "54f473eb0257c08decd1f78f9882b56b9a20e6410c7d8533ca2fd9ce09773f65"
  }
 },
 "nbformat": 4,
 "nbformat_minor": 2
}