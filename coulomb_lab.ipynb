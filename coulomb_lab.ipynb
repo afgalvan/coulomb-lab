{
 "cells": [
  {
   "cell_type": "markdown",
   "source": [
    "<h1 align=\"center\">\n",
    "    PRACTICA EXPERIMENTAL #1\n",
    "    </br>\n",
    "    LEY DE COULOMB\n",
    "</h1>"
   ],
   "metadata": {}
  },
  {
   "cell_type": "markdown",
   "source": [
    "| IDENTIFICACIÓN | |\r\n",
    "| :- | :- |\r\n",
    "| Nombre de la asignatura | Electromagnetismo |\r\n",
    "| Programa Académico | Ingeniería de Sistemas |\r\n",
    "| Docente | Dr. Carlos Eduardo Martinez Nuñez |\r\n",
    "| Nombre del Estudiante | Andrés Felipe Galván |\r\n",
    "\r\n",
    "---\r\n",
    "\r\n",
    "## OBJETIVO GENERAL\r\n",
    "\r\n",
    "Estudiar la dependencia de la fuerza eléctrica respecto a la distancia de separación \r\n",
    "entre las cargas, así como determinar el valor de la constante de Coulomb. \r\n",
    "\r\n",
    "---\r\n",
    "\r\n",
    "## OBJETIVOS ESPECÍFICOS\r\n",
    "\r\n",
    "- Calcular  la  dependencia  de  la  fuerza  eléctrica  respecto  a  la  distancia  de \r\n",
    "separación entre las cargas.\r\n",
    "- Calcular el valor de la constante de Coulomb.\r\n",
    "- Determinar los errores de las mediciones."
   ],
   "metadata": {}
  },
  {
   "cell_type": "markdown",
   "source": [
    "## Formulas\n",
    "\n",
    "### 1. Ley de Coulomb\n",
    "\n",
    "> <img src=\"https://latex.codecogs.com/svg.latex?\\large&space;F_{e}&space;=&space;k_{e{\\color{Golden}&space;}}\\frac{|q_{1}||q_{2}|}{r^{2}}\" title=\"\\large F_{e} = k_{e}\\frac{|q_{1}||q_{2}|}{r^{2}}\" />\n",
    "\n",
    "Donde <img src=\"https://latex.codecogs.com/svg.latex?\\large&space;k_{e}\" title=\"\\large k_{e}\" />, es conocida como la **constante de Coulomb** y se expresa como:\n",
    "\n",
    "> <img src=\"https://latex.codecogs.com/svg.latex?\\large&space;k_{e}&space;=&space;8.9876&space;\\times&space;10^{9}N&space;\\cdot&space;m^{2}/C^{2}\" title=\"\\large k_{e} = 8.9876 \\times 10^{9}N \\cdot m^{2}/C^{2}\" />\n",
    "\n",
    "> <img src=\"https://latex.codecogs.com/svg.latex?\\large&space;k_{e}&space;=&space;\\frac{1}{4\\pi&space;\\varepsilon_{0}&space;}\" title=\"\\large k_{e} = \\frac{1}{4\\pi \\varepsilon_{0} }\" />\n",
    "\n",
    "Donde <img src=\"https://latex.codecogs.com/svg.latex?\\large&space;\\varepsilon_{0}\" title=\"\\large \\varepsilon_{0}\" /> se conoce como la permitividad del vacío y su valor en el **SI** es:\n",
    "\n",
    "> <img src=\"https://latex.codecogs.com/svg.latex?\\large&space;\\varepsilon_{0}&space;=&space;8.8542&space;\\times&space;10^{-12}C^2/N\\cdot&space;m^2\" title=\"\\large \\varepsilon_{0} = 8.8542 \\times 10^{-12}C^2/N\\cdot m^2\" />\n",
    "\n",
    "---\n",
    "\n",
    "### 2. Relación entre *F* y *r*\n",
    "\n",
    "A partir de la ecuación de la ley de Coulomb se puede estudiar la relación entre ***F*** \n",
    "y ***r***. Considere la ecuación dada por:\n",
    "\n",
    "> <img src=\"https://latex.codecogs.com/svg.latex?\\large&space;F_{e}&space;=&space;k_{e{\\color{Golden}&space;}}\\frac{|q_{1}||q_{2}|}{r^{2}}\" title=\"\\large F_{e} = k_{e}\\frac{|q_{1}||q_{2}|}{r^{2}}\" />\n",
    "\n",
    "Esta ecuación se puede reescribir como:\n",
    "\n",
    "> <img src=\"https://latex.codecogs.com/svg.latex?\\large&space;F_{e}&space;=&space;m\\frac{1}{r^{2}}\" title=\"\\large F_{e} = m\\frac{1}{r^{2}}\" />\n",
    "\n",
    "Donde: <img src=\"https://latex.codecogs.com/svg.latex?\\large&space;m&space;=&space;k_{e}|q_{1}||q_{2}|\" title=\"\\large m = k_{e}|q_{1}||q_{2}|\" />\n",
    "\n",
    "De la expresión anterior se llega a extraer la relación de <img src=\"https://latex.codecogs.com/svg.latex?\\large&space;F_{e}\" title=\"\\large F_{e}\" /> respecto a <img src=\"https://latex.codecogs.com/svg.latex?\\large&space;r\" title=\"\\large r\" /> como:\n",
    "\n",
    "> <img src=\"https://latex.codecogs.com/svg.latex?\\large&space;F_{e}&space;=&space;\\propto&space;\\frac{1}{r^{2}}\" title=\"\\large F_{e} = \\propto \\frac{1}{r^{2}}\" />\n",
    "\n",
    "---\n",
    "\n",
    "### 3. Porcentaje de error\n",
    "\n",
    "> <img src=\"https://latex.codecogs.com/svg.latex?\\large&space;\\%&space;error&space;=&space;\\frac{Valor\\&space;aceptado&space;-&space;Valor\\&space;experimental}{Valor\\&space;aceptado}&space;\\times&space;100\\%\" title=\"\\large \\% error = \\frac{Valor\\ aceptado - Valor\\ experimental}{Valor\\ aceptado} \\times 100\\%\" />"
   ],
   "metadata": {}
  },
  {
   "cell_type": "markdown",
   "source": [
    "## Relación directamente proporcional\n",
    "TODO"
   ],
   "metadata": {}
  },
  {
   "cell_type": "markdown",
   "source": [
    "## Relación inversamente proporcional\n",
    "TODO"
   ],
   "metadata": {}
  },
  {
   "cell_type": "markdown",
   "source": [
    "# Procedimiento"
   ],
   "metadata": {}
  },
  {
   "cell_type": "markdown",
   "source": [
    "## Instalación de dependencias"
   ],
   "metadata": {}
  },
  {
   "cell_type": "code",
   "execution_count": null,
   "source": [
    "from sys import executable\r\n",
    "\r\n",
    "!{executable} -m pip install pandas\r\n",
    "!{executable} -m pip install matplotlib\r\n",
    "!{executable} -m pip install openpyxl\r\n",
    "!{executable} -m pip install numpy"
   ],
   "outputs": [],
   "metadata": {
    "scrolled": false
   }
  },
  {
   "cell_type": "markdown",
   "source": [
    "## Configuración"
   ],
   "metadata": {}
  },
  {
   "cell_type": "code",
   "execution_count": 22,
   "source": [
    "from pandas import set_option\r\n",
    "from matplotlib.pyplot import style\r\n",
    "\r\n",
    "style.use(\"seaborn-whitegrid\")\r\n",
    "set_option(\"display.float_format\", \"{:.2e}\".format) # Usar notación cientifica"
   ],
   "outputs": [],
   "metadata": {}
  },
  {
   "cell_type": "markdown",
   "source": [
    "## Con cargas tales que *q1* = *-4e* y *q2* = *3e*"
   ],
   "metadata": {}
  },
  {
   "cell_type": "markdown",
   "source": [
    "### Registro de datos"
   ],
   "metadata": {}
  },
  {
   "cell_type": "code",
   "execution_count": 23,
   "source": [
    "from pandas import DataFrame\r\n",
    "from utils import crear_dataframe, registrar\r\n",
    "\r\n",
    "Q1 = -4\r\n",
    "Q2 = 3\r\n",
    "\r\n",
    "fuerza_distancia1: DataFrame = crear_dataframe()\r\n",
    "registrar(fuerza_distancia1,\r\n",
    "    6.92e-4, 1.73e-4, 7.69e-5,\r\n",
    "    4.33e-5, 2.77e-5, 1.92e-5,\r\n",
    "    1.41e-5, 1.08e-5, 8.55e-6,\r\n",
    "    6.92e-6, 5.72e-6, 4.81e-6,\r\n",
    "    4.10e-6, 3.53e-6, 3.06e-6,\r\n",
    "    2.70e-6, 2.40e-6, 2.14e-6,\r\n",
    "    1.92e-6, 1.73e-6,\r\n",
    "    inicio=2, paso=2\r\n",
    ")\r\n",
    "fuerza_distancia1"
   ],
   "outputs": [
    {
     "output_type": "execute_result",
     "data": {
      "text/html": [
       "<div>\n",
       "<style scoped>\n",
       "    .dataframe tbody tr th:only-of-type {\n",
       "        vertical-align: middle;\n",
       "    }\n",
       "\n",
       "    .dataframe tbody tr th {\n",
       "        vertical-align: top;\n",
       "    }\n",
       "\n",
       "    .dataframe thead th {\n",
       "        text-align: right;\n",
       "    }\n",
       "</style>\n",
       "<table border=\"1\" class=\"dataframe\">\n",
       "  <thead>\n",
       "    <tr style=\"text-align: right;\">\n",
       "      <th>N°</th>\n",
       "      <th>F (N)</th>\n",
       "      <th>r (pm)</th>\n",
       "      <th>r (mts)</th>\n",
       "      <th>1/r²</th>\n",
       "    </tr>\n",
       "  </thead>\n",
       "  <tbody>\n",
       "    <tr>\n",
       "      <th>1</th>\n",
       "      <td>6.92e-04</td>\n",
       "      <td>2</td>\n",
       "      <td>2.00e-12</td>\n",
       "      <td>2.50e+23</td>\n",
       "    </tr>\n",
       "    <tr>\n",
       "      <th>2</th>\n",
       "      <td>1.73e-04</td>\n",
       "      <td>4</td>\n",
       "      <td>4.00e-12</td>\n",
       "      <td>6.25e+22</td>\n",
       "    </tr>\n",
       "    <tr>\n",
       "      <th>3</th>\n",
       "      <td>7.69e-05</td>\n",
       "      <td>6</td>\n",
       "      <td>6.00e-12</td>\n",
       "      <td>2.78e+22</td>\n",
       "    </tr>\n",
       "    <tr>\n",
       "      <th>4</th>\n",
       "      <td>4.33e-05</td>\n",
       "      <td>8</td>\n",
       "      <td>8.00e-12</td>\n",
       "      <td>1.56e+22</td>\n",
       "    </tr>\n",
       "    <tr>\n",
       "      <th>5</th>\n",
       "      <td>2.77e-05</td>\n",
       "      <td>10</td>\n",
       "      <td>1.00e-11</td>\n",
       "      <td>1.00e+22</td>\n",
       "    </tr>\n",
       "    <tr>\n",
       "      <th>6</th>\n",
       "      <td>1.92e-05</td>\n",
       "      <td>12</td>\n",
       "      <td>1.20e-11</td>\n",
       "      <td>6.94e+21</td>\n",
       "    </tr>\n",
       "    <tr>\n",
       "      <th>7</th>\n",
       "      <td>1.41e-05</td>\n",
       "      <td>14</td>\n",
       "      <td>1.40e-11</td>\n",
       "      <td>5.10e+21</td>\n",
       "    </tr>\n",
       "    <tr>\n",
       "      <th>8</th>\n",
       "      <td>1.08e-05</td>\n",
       "      <td>16</td>\n",
       "      <td>1.60e-11</td>\n",
       "      <td>3.91e+21</td>\n",
       "    </tr>\n",
       "    <tr>\n",
       "      <th>9</th>\n",
       "      <td>8.55e-06</td>\n",
       "      <td>18</td>\n",
       "      <td>1.80e-11</td>\n",
       "      <td>3.09e+21</td>\n",
       "    </tr>\n",
       "    <tr>\n",
       "      <th>10</th>\n",
       "      <td>6.92e-06</td>\n",
       "      <td>20</td>\n",
       "      <td>2.00e-11</td>\n",
       "      <td>2.50e+21</td>\n",
       "    </tr>\n",
       "    <tr>\n",
       "      <th>11</th>\n",
       "      <td>5.72e-06</td>\n",
       "      <td>22</td>\n",
       "      <td>2.20e-11</td>\n",
       "      <td>2.07e+21</td>\n",
       "    </tr>\n",
       "    <tr>\n",
       "      <th>12</th>\n",
       "      <td>4.81e-06</td>\n",
       "      <td>24</td>\n",
       "      <td>2.40e-11</td>\n",
       "      <td>1.74e+21</td>\n",
       "    </tr>\n",
       "    <tr>\n",
       "      <th>13</th>\n",
       "      <td>4.10e-06</td>\n",
       "      <td>26</td>\n",
       "      <td>2.60e-11</td>\n",
       "      <td>1.48e+21</td>\n",
       "    </tr>\n",
       "    <tr>\n",
       "      <th>14</th>\n",
       "      <td>3.53e-06</td>\n",
       "      <td>28</td>\n",
       "      <td>2.80e-11</td>\n",
       "      <td>1.28e+21</td>\n",
       "    </tr>\n",
       "    <tr>\n",
       "      <th>15</th>\n",
       "      <td>3.06e-06</td>\n",
       "      <td>30</td>\n",
       "      <td>3.00e-11</td>\n",
       "      <td>1.11e+21</td>\n",
       "    </tr>\n",
       "    <tr>\n",
       "      <th>16</th>\n",
       "      <td>2.70e-06</td>\n",
       "      <td>32</td>\n",
       "      <td>3.20e-11</td>\n",
       "      <td>9.77e+20</td>\n",
       "    </tr>\n",
       "    <tr>\n",
       "      <th>17</th>\n",
       "      <td>2.40e-06</td>\n",
       "      <td>34</td>\n",
       "      <td>3.40e-11</td>\n",
       "      <td>8.65e+20</td>\n",
       "    </tr>\n",
       "    <tr>\n",
       "      <th>18</th>\n",
       "      <td>2.14e-06</td>\n",
       "      <td>36</td>\n",
       "      <td>3.60e-11</td>\n",
       "      <td>7.72e+20</td>\n",
       "    </tr>\n",
       "    <tr>\n",
       "      <th>19</th>\n",
       "      <td>1.92e-06</td>\n",
       "      <td>38</td>\n",
       "      <td>3.80e-11</td>\n",
       "      <td>6.93e+20</td>\n",
       "    </tr>\n",
       "    <tr>\n",
       "      <th>20</th>\n",
       "      <td>1.73e-06</td>\n",
       "      <td>40</td>\n",
       "      <td>4.00e-11</td>\n",
       "      <td>6.25e+20</td>\n",
       "    </tr>\n",
       "  </tbody>\n",
       "</table>\n",
       "</div>"
      ],
      "text/plain": [
       "N°    F (N) r (pm)  r (mts)     1/r²\n",
       "1  6.92e-04      2 2.00e-12 2.50e+23\n",
       "2  1.73e-04      4 4.00e-12 6.25e+22\n",
       "3  7.69e-05      6 6.00e-12 2.78e+22\n",
       "4  4.33e-05      8 8.00e-12 1.56e+22\n",
       "5  2.77e-05     10 1.00e-11 1.00e+22\n",
       "6  1.92e-05     12 1.20e-11 6.94e+21\n",
       "7  1.41e-05     14 1.40e-11 5.10e+21\n",
       "8  1.08e-05     16 1.60e-11 3.91e+21\n",
       "9  8.55e-06     18 1.80e-11 3.09e+21\n",
       "10 6.92e-06     20 2.00e-11 2.50e+21\n",
       "11 5.72e-06     22 2.20e-11 2.07e+21\n",
       "12 4.81e-06     24 2.40e-11 1.74e+21\n",
       "13 4.10e-06     26 2.60e-11 1.48e+21\n",
       "14 3.53e-06     28 2.80e-11 1.28e+21\n",
       "15 3.06e-06     30 3.00e-11 1.11e+21\n",
       "16 2.70e-06     32 3.20e-11 9.77e+20\n",
       "17 2.40e-06     34 3.40e-11 8.65e+20\n",
       "18 2.14e-06     36 3.60e-11 7.72e+20\n",
       "19 1.92e-06     38 3.80e-11 6.93e+20\n",
       "20 1.73e-06     40 4.00e-11 6.25e+20"
      ]
     },
     "metadata": {},
     "execution_count": 23
    }
   ],
   "metadata": {}
  },
  {
   "cell_type": "markdown",
   "source": [
    "### Graficar"
   ],
   "metadata": {}
  },
  {
   "cell_type": "code",
   "execution_count": 25,
   "source": [
    "from utils import graficar\r\n",
    "\r\n",
    "graficar(\"F1 vs 1/r1²\", fuerza_distancia1, x=\"1/r²\")"
   ],
   "outputs": [
    {
     "output_type": "display_data",
     "data": {
      "image/png": "[encoded data removed]",
      "text/plain": [
       "<Figure size 700x500 with 1 Axes>"
      ]
     },
     "metadata": {}
    }
   ],
   "metadata": {}
  },
  {
   "cell_type": "markdown",
   "source": [
    "### Exportar resultados"
   ],
   "metadata": {}
  },
  {
   "cell_type": "code",
   "execution_count": 26,
   "source": [
    "# fuerza_distancia1.to_excel(\"fuerza-vs-distancia1.xlsx\")"
   ],
   "outputs": [],
   "metadata": {}
  },
  {
   "cell_type": "markdown",
   "source": [
    "## Con cargas tales que *q1* = *7e* y *q2* = *4e*"
   ],
   "metadata": {}
  },
  {
   "cell_type": "code",
   "execution_count": 27,
   "source": [
    "from pandas import DataFrame\r\n",
    "from utils import crear_dataframe, registrar\r\n",
    "\r\n",
    "Q1_2 = 7\r\n",
    "Q2_2 = 4\r\n",
    "\r\n",
    "fuerza_distancia2: DataFrame = crear_dataframe()\r\n",
    "registrar(fuerza_distancia2,\r\n",
    "    2.58e-4, 6.46e-5, 2.28e-5,\r\n",
    "    1.62e-5, 1.03e-5, 7.18e-6,\r\n",
    "    5.27e-6, 4.04e-6, 3.19e-6,\r\n",
    "    2.58e-6, 2.13e-6, 1.79e-6,\r\n",
    "    1.53e-6, 1.32e-6, 1.15e-6,\r\n",
    "    1.01e-6, 8.94e-7, 7.98e-7,\r\n",
    "    7.16e-7, 6.46e-7,\r\n",
    "    inicio=5, paso=5\r\n",
    ")\r\n",
    "fuerza_distancia2.dropna()"
   ],
   "outputs": [
    {
     "output_type": "execute_result",
     "data": {
      "text/html": [
       "<div>\n",
       "<style scoped>\n",
       "    .dataframe tbody tr th:only-of-type {\n",
       "        vertical-align: middle;\n",
       "    }\n",
       "\n",
       "    .dataframe tbody tr th {\n",
       "        vertical-align: top;\n",
       "    }\n",
       "\n",
       "    .dataframe thead th {\n",
       "        text-align: right;\n",
       "    }\n",
       "</style>\n",
       "<table border=\"1\" class=\"dataframe\">\n",
       "  <thead>\n",
       "    <tr style=\"text-align: right;\">\n",
       "      <th>N°</th>\n",
       "      <th>F (N)</th>\n",
       "      <th>r (pm)</th>\n",
       "      <th>r (mts)</th>\n",
       "      <th>1/r²</th>\n",
       "    </tr>\n",
       "  </thead>\n",
       "  <tbody>\n",
       "    <tr>\n",
       "      <th>1</th>\n",
       "      <td>2.58e-04</td>\n",
       "      <td>5</td>\n",
       "      <td>5.00e-12</td>\n",
       "      <td>4.00e+22</td>\n",
       "    </tr>\n",
       "    <tr>\n",
       "      <th>2</th>\n",
       "      <td>6.46e-05</td>\n",
       "      <td>10</td>\n",
       "      <td>1.00e-11</td>\n",
       "      <td>1.00e+22</td>\n",
       "    </tr>\n",
       "    <tr>\n",
       "      <th>3</th>\n",
       "      <td>2.28e-05</td>\n",
       "      <td>15</td>\n",
       "      <td>1.50e-11</td>\n",
       "      <td>4.44e+21</td>\n",
       "    </tr>\n",
       "    <tr>\n",
       "      <th>4</th>\n",
       "      <td>1.62e-05</td>\n",
       "      <td>20</td>\n",
       "      <td>2.00e-11</td>\n",
       "      <td>2.50e+21</td>\n",
       "    </tr>\n",
       "    <tr>\n",
       "      <th>5</th>\n",
       "      <td>1.03e-05</td>\n",
       "      <td>25</td>\n",
       "      <td>2.50e-11</td>\n",
       "      <td>1.60e+21</td>\n",
       "    </tr>\n",
       "    <tr>\n",
       "      <th>6</th>\n",
       "      <td>7.18e-06</td>\n",
       "      <td>30</td>\n",
       "      <td>3.00e-11</td>\n",
       "      <td>1.11e+21</td>\n",
       "    </tr>\n",
       "    <tr>\n",
       "      <th>7</th>\n",
       "      <td>5.27e-06</td>\n",
       "      <td>35</td>\n",
       "      <td>3.50e-11</td>\n",
       "      <td>8.16e+20</td>\n",
       "    </tr>\n",
       "    <tr>\n",
       "      <th>8</th>\n",
       "      <td>4.04e-06</td>\n",
       "      <td>40</td>\n",
       "      <td>4.00e-11</td>\n",
       "      <td>6.25e+20</td>\n",
       "    </tr>\n",
       "    <tr>\n",
       "      <th>9</th>\n",
       "      <td>3.19e-06</td>\n",
       "      <td>45</td>\n",
       "      <td>4.50e-11</td>\n",
       "      <td>4.94e+20</td>\n",
       "    </tr>\n",
       "    <tr>\n",
       "      <th>10</th>\n",
       "      <td>2.58e-06</td>\n",
       "      <td>50</td>\n",
       "      <td>5.00e-11</td>\n",
       "      <td>4.00e+20</td>\n",
       "    </tr>\n",
       "    <tr>\n",
       "      <th>11</th>\n",
       "      <td>2.13e-06</td>\n",
       "      <td>55</td>\n",
       "      <td>5.50e-11</td>\n",
       "      <td>3.31e+20</td>\n",
       "    </tr>\n",
       "    <tr>\n",
       "      <th>12</th>\n",
       "      <td>1.79e-06</td>\n",
       "      <td>60</td>\n",
       "      <td>6.00e-11</td>\n",
       "      <td>2.78e+20</td>\n",
       "    </tr>\n",
       "    <tr>\n",
       "      <th>13</th>\n",
       "      <td>1.53e-06</td>\n",
       "      <td>65</td>\n",
       "      <td>6.50e-11</td>\n",
       "      <td>2.37e+20</td>\n",
       "    </tr>\n",
       "    <tr>\n",
       "      <th>14</th>\n",
       "      <td>1.32e-06</td>\n",
       "      <td>70</td>\n",
       "      <td>7.00e-11</td>\n",
       "      <td>2.04e+20</td>\n",
       "    </tr>\n",
       "    <tr>\n",
       "      <th>15</th>\n",
       "      <td>1.15e-06</td>\n",
       "      <td>75</td>\n",
       "      <td>7.50e-11</td>\n",
       "      <td>1.78e+20</td>\n",
       "    </tr>\n",
       "    <tr>\n",
       "      <th>16</th>\n",
       "      <td>1.01e-06</td>\n",
       "      <td>80</td>\n",
       "      <td>8.00e-11</td>\n",
       "      <td>1.56e+20</td>\n",
       "    </tr>\n",
       "    <tr>\n",
       "      <th>17</th>\n",
       "      <td>8.94e-07</td>\n",
       "      <td>85</td>\n",
       "      <td>8.50e-11</td>\n",
       "      <td>1.38e+20</td>\n",
       "    </tr>\n",
       "    <tr>\n",
       "      <th>18</th>\n",
       "      <td>7.98e-07</td>\n",
       "      <td>90</td>\n",
       "      <td>9.00e-11</td>\n",
       "      <td>1.23e+20</td>\n",
       "    </tr>\n",
       "    <tr>\n",
       "      <th>19</th>\n",
       "      <td>7.16e-07</td>\n",
       "      <td>95</td>\n",
       "      <td>9.50e-11</td>\n",
       "      <td>1.11e+20</td>\n",
       "    </tr>\n",
       "    <tr>\n",
       "      <th>20</th>\n",
       "      <td>6.46e-07</td>\n",
       "      <td>100</td>\n",
       "      <td>1.00e-10</td>\n",
       "      <td>1.00e+20</td>\n",
       "    </tr>\n",
       "  </tbody>\n",
       "</table>\n",
       "</div>"
      ],
      "text/plain": [
       "N°    F (N) r (pm)  r (mts)     1/r²\n",
       "1  2.58e-04      5 5.00e-12 4.00e+22\n",
       "2  6.46e-05     10 1.00e-11 1.00e+22\n",
       "3  2.28e-05     15 1.50e-11 4.44e+21\n",
       "4  1.62e-05     20 2.00e-11 2.50e+21\n",
       "5  1.03e-05     25 2.50e-11 1.60e+21\n",
       "6  7.18e-06     30 3.00e-11 1.11e+21\n",
       "7  5.27e-06     35 3.50e-11 8.16e+20\n",
       "8  4.04e-06     40 4.00e-11 6.25e+20\n",
       "9  3.19e-06     45 4.50e-11 4.94e+20\n",
       "10 2.58e-06     50 5.00e-11 4.00e+20\n",
       "11 2.13e-06     55 5.50e-11 3.31e+20\n",
       "12 1.79e-06     60 6.00e-11 2.78e+20\n",
       "13 1.53e-06     65 6.50e-11 2.37e+20\n",
       "14 1.32e-06     70 7.00e-11 2.04e+20\n",
       "15 1.15e-06     75 7.50e-11 1.78e+20\n",
       "16 1.01e-06     80 8.00e-11 1.56e+20\n",
       "17 8.94e-07     85 8.50e-11 1.38e+20\n",
       "18 7.98e-07     90 9.00e-11 1.23e+20\n",
       "19 7.16e-07     95 9.50e-11 1.11e+20\n",
       "20 6.46e-07    100 1.00e-10 1.00e+20"
      ]
     },
     "metadata": {},
     "execution_count": 27
    }
   ],
   "metadata": {}
  },
  {
   "cell_type": "markdown",
   "source": [
    "### Exportar resultados"
   ],
   "metadata": {}
  },
  {
   "cell_type": "code",
   "execution_count": 28,
   "source": [
    "# fuerza_distancia2.to_excel(\"fuerza-vs-distancia2.xlsx\")"
   ],
   "outputs": [],
   "metadata": {}
  },
  {
   "cell_type": "markdown",
   "source": [
    "### Graficar"
   ],
   "metadata": {}
  },
  {
   "cell_type": "code",
   "execution_count": 29,
   "source": [
    "from utils import graficar\r\n",
    "\r\n",
    "graficar(\"F2 vs r2\", fuerza_distancia2, color=\"#E94E6B\")"
   ],
   "outputs": [
    {
     "output_type": "display_data",
     "data": {
      "image/png": "[encoded data removed]",
      "text/plain": [
       "<Figure size 700x500 with 1 Axes>"
      ]
     },
     "metadata": {}
    }
   ],
   "metadata": {}
  },
  {
   "cell_type": "code",
   "execution_count": 30,
   "source": [
    "from utils import graficar\r\n",
    "\r\n",
    "graficar(\"F2 vs 1/r2²\", fuerza_distancia2, x=\"1/r²\", color=\"#E94E6B\")"
   ],
   "outputs": [
    {
     "output_type": "display_data",
     "data": {
      "image/png": "[encoded data removed]",
      "text/plain": [
       "<Figure size 700x500 with 1 Axes>"
      ]
     },
     "metadata": {}
    }
   ],
   "metadata": {}
  },
  {
   "cell_type": "markdown",
   "source": [
    "## Calcular constante de Coulomb"
   ],
   "metadata": {}
  },
  {
   "cell_type": "code",
   "execution_count": 31,
   "source": [
    "from utils import resultado_experimentacion, DatosExperimentacion\r\n",
    "from pandas import set_option\r\n",
    "\r\n",
    "set_option(\"display.float_format\", \"{:.4e}\".format) # Usar notación cientifica\r\n",
    "\r\n",
    "fuerza1 = fuerza_distancia1[\"F (N)\"].tolist()\r\n",
    "inverso_r1 = fuerza_distancia1[\"1/r²\"].tolist()\r\n",
    "datos_copilados1 = DatosExperimentacion(fuerza1, inverso_r1, Q1, Q2)\r\n",
    "\r\n",
    "fuerza2 = fuerza_distancia2[\"F (N)\"].tolist()\r\n",
    "inverso_r2 = fuerza_distancia2[\"1/r²\"].tolist()\r\n",
    "datos_copilados2 = DatosExperimentacion(fuerza2, inverso_r2, Q1_2, Q2_2)\r\n",
    "\r\n",
    "resultado_experimentacion(datos_copilados1, datos_copilados2)"
   ],
   "outputs": [
    {
     "output_type": "execute_result",
     "data": {
      "text/html": [
       "<div>\n",
       "<style scoped>\n",
       "    .dataframe tbody tr th:only-of-type {\n",
       "        vertical-align: middle;\n",
       "    }\n",
       "\n",
       "    .dataframe tbody tr th {\n",
       "        vertical-align: top;\n",
       "    }\n",
       "\n",
       "    .dataframe thead th {\n",
       "        text-align: right;\n",
       "    }\n",
       "</style>\n",
       "<table border=\"1\" class=\"dataframe\">\n",
       "  <thead>\n",
       "    <tr style=\"text-align: right;\">\n",
       "      <th></th>\n",
       "      <th>Valor</th>\n",
       "      <th>Experimental</th>\n",
       "      <th>Teórico</th>\n",
       "      <th>Error Porcentual</th>\n",
       "    </tr>\n",
       "  </thead>\n",
       "  <tbody>\n",
       "    <tr>\n",
       "      <th>0</th>\n",
       "      <td>ke1</td>\n",
       "      <td>8.9857e+09</td>\n",
       "      <td>8.9875e+09</td>\n",
       "      <td>0.02%</td>\n",
       "    </tr>\n",
       "    <tr>\n",
       "      <th>1</th>\n",
       "      <td>ke2</td>\n",
       "      <td>8.9674e+09</td>\n",
       "      <td>8.9875e+09</td>\n",
       "      <td>0.22%</td>\n",
       "    </tr>\n",
       "  </tbody>\n",
       "</table>\n",
       "</div>"
      ],
      "text/plain": [
       "  Valor  Experimental    Teórico Error Porcentual\n",
       "0   ke1    8.9857e+09 8.9875e+09            0.02%\n",
       "1   ke2    8.9674e+09 8.9875e+09            0.22%"
      ]
     },
     "metadata": {},
     "execution_count": 31
    }
   ],
   "metadata": {}
  }
 ],
 "metadata": {
  "interpreter": {
   "hash": "54f473eb0257c08decd1f78f9882b56b9a20e6410c7d8533ca2fd9ce09773f65"
  },
  "kernelspec": {
   "name": "python3",
   "display_name": "Python 3.9.6 64-bit"
  },
  "language_info": {
   "codemirror_mode": {
    "name": "ipython",
    "version": 3
   },
   "file_extension": ".py",
   "mimetype": "text/x-python",
   "name": "python",
   "nbconvert_exporter": "python",
   "pygments_lexer": "ipython3",
   "version": "3.9.6"
  }
 },
 "nbformat": 4,
 "nbformat_minor": 2
}