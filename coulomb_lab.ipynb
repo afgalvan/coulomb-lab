{
 "cells": [
  {
   "cell_type": "markdown",
   "source": [
    "<h1 align=\"center\">\r\n",
    "    PRACTICA EXPERIMENTAL #1\r\n",
    "    </br>\r\n",
    "    LEY DE COULOMB\r\n",
    "</h1>"
   ],
   "metadata": {}
  },
  {
   "cell_type": "markdown",
   "source": [
    "\r\n",
    "| IDENTIFICACIÓN | |\r\n",
    "| --- | --- |\r\n",
    "| Nombre de la asignatura | Electromagnetismo |\r\n",
    "| Programa Académico | Ingeniería de ambiental y sanitaria, agroindustrial |\r\n",
    "| Docente | Dra. Yoleivys Delgado Beleño |\r\n",
    "| Nombre del Estudiante | Andrés Felipe Galván |\r\n",
    "\r\n",
    "---\r\n",
    "\r\n",
    "## OBJETIVO GENERAL\r\n",
    "\r\n",
    "Estudiar la dependencia de la fuerza eléctrica respecto a la distancia de separación \r\n",
    "entre las cargas, así como determinar el valor de la constante de Coulomb. \r\n",
    "\r\n",
    "---\r\n",
    "\r\n",
    "## OBJETIVOS ESPECÍFICOS\r\n",
    "\r\n",
    "- Calcular  la  dependencia  de  la  fuerza  eléctrica  respecto  a  la  distancia  de \r\n",
    "separación entre las cargas.\r\n",
    "- Calcular el valor de la constante de Coulomb.\r\n",
    "- Determinar los errores de las mediciones."
   ],
   "metadata": {}
  },
  {
   "cell_type": "markdown",
   "source": [
    "## Formulas\r\n",
    "\r\n",
    "### 1. Ley de Coulomb\r\n",
    "\r\n",
    "> <img src=\"https://latex.codecogs.com/svg.latex?\\large&space;F_{e}&space;=&space;k_{e{\\color{Golden}&space;}}\\frac{|q_{1}||q_{2}|}{r^{2}}\" title=\"\\large F_{e} = k_{e}\\frac{|q_{1}||q_{2}|}{r^{2}}\" />\r\n",
    "\r\n",
    "Donde <img src=\"https://latex.codecogs.com/svg.latex?\\large&space;k_{e}\" title=\"\\large k_{e}\" />, es conocida como la **constante de Coulomb** y se expresa como:\r\n",
    "\r\n",
    "> <img src=\"https://latex.codecogs.com/svg.latex?\\large&space;k_{e}&space;=&space;8.9876&space;\\times&space;10^{9}N&space;\\cdot&space;m^{2}/C^{2}\" title=\"\\large k_{e} = 8.9876 \\times 10^{9}N \\cdot m^{2}/C^{2}\" />\r\n",
    "\r\n",
    "> <img src=\"https://latex.codecogs.com/svg.latex?\\large&space;k_{e}&space;=&space;\\frac{1}{4\\pi&space;\\varepsilon_{0}&space;}\" title=\"\\large k_{e} = \\frac{1}{4\\pi \\varepsilon_{0} }\" />\r\n",
    "\r\n",
    "Donde <img src=\"https://latex.codecogs.com/svg.latex?\\large&space;\\varepsilon_{0}\" title=\"\\large \\varepsilon_{0}\" /> se conoce como la permitividad del vacío y su valor en el **SI** es:\r\n",
    "\r\n",
    "> <img src=\"https://latex.codecogs.com/svg.latex?\\large&space;\\varepsilon_{0}&space;=&space;8.8542&space;\\times&space;10^{-12}C^2/N\\cdot&space;m^2\" title=\"\\large \\varepsilon_{0} = 8.8542 \\times 10^{-12}C^2/N\\cdot m^2\" />\r\n",
    "\r\n",
    "---\r\n",
    "\r\n",
    "### 2. Relación entre *F* y *r*\r\n",
    "\r\n",
    "A partir de la ecuación de la ley de Coulomb se puede estudiar la relación entre ***F*** \r\n",
    "y ***r***. Considere la ecuación dada por:\r\n",
    "\r\n",
    "> <img src=\"https://latex.codecogs.com/svg.latex?\\large&space;F_{e}&space;=&space;k_{e{\\color{Golden}&space;}}\\frac{|q_{1}||q_{2}|}{r^{2}}\" title=\"\\large F_{e} = k_{e}\\frac{|q_{1}||q_{2}|}{r^{2}}\" />\r\n",
    "\r\n",
    "Esta ecuación se puede reescribir como:\r\n",
    "\r\n",
    "> <img src=\"https://latex.codecogs.com/svg.latex?\\large&space;F_{e}&space;=&space;m\\frac{1}{r^{2}}\" title=\"\\large F_{e} = m\\frac{1}{r^{2}}\" />\r\n",
    "\r\n",
    "Donde: <img src=\"https://latex.codecogs.com/svg.latex?\\large&space;m&space;=&space;k_{e}|q_{1}||q_{2}|\" title=\"\\large m = k_{e}|q_{1}||q_{2}|\" />\r\n",
    "\r\n",
    "De la expresión anterior se llega a extraer la relación de <img src=\"https://latex.codecogs.com/svg.latex?\\large&space;F_{e}\" title=\"\\large F_{e}\" /> respecto a <img src=\"https://latex.codecogs.com/svg.latex?\\large&space;r\" title=\"\\large r\" /> como:\r\n",
    "\r\n",
    "> <img src=\"https://latex.codecogs.com/svg.latex?\\large&space;F_{e}&space;=&space;\\propto&space;\\frac{1}{r^{2}}\" title=\"\\large F_{e} = \\propto \\frac{1}{r^{2}}\" />\r\n",
    "\r\n",
    "---\r\n",
    "\r\n",
    "### 3. Porcentaje de error\r\n",
    "\r\n",
    "> <img src=\"https://latex.codecogs.com/svg.latex?\\large&space;\\%&space;error&space;=&space;\\frac{Valor\\&space;aceptado&space;-&space;Valor\\&space;experimental}{Valor\\&space;aceptado}&space;\\times&space;100\\%\" title=\"\\large \\% error = \\frac{Valor\\ aceptado - Valor\\ experimental}{Valor\\ aceptado} \\times 100\\%\" />"
   ],
   "metadata": {}
  },
  {
   "cell_type": "markdown",
   "source": [
    "## Relación directamente proporcional\r\n",
    "TODO"
   ],
   "metadata": {}
  },
  {
   "cell_type": "markdown",
   "source": [
    "## Relación inversamente proporcional\r\n",
    "TODO"
   ],
   "metadata": {}
  }
 ],
 "metadata": {
  "orig_nbformat": 4,
  "language_info": {
   "name": "python"
  }
 },
 "nbformat": 4,
 "nbformat_minor": 2
}